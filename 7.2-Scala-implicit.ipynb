{
 "cells": [
  {
   "cell_type": "markdown",
   "metadata": {},
   "source": [
    "<a name=\"top\"></a><img src=\"source/SpinalHDL.png\" alt=\"SpinalHDL based on Scala\" style=\"width:320px;\" /> "
   ]
  },
  {
   "cell_type": "code",
   "execution_count": null,
   "metadata": {},
   "outputs": [],
   "source": [
    "val path = System.getProperty(\"user.dir\") + \"/source/load-spinal.sc\"\n",
    "interp.load.module(ammonite.ops.Path(java.nio.file.FileSystems.getDefault().getPath(path)))"
   ]
  },
  {
   "cell_type": "markdown",
   "metadata": {},
   "source": [
    "## Implicit\n"
   ]
  },
  {
   "cell_type": "code",
   "execution_count": null,
   "metadata": {},
   "outputs": [],
   "source": []
  },
  {
   "cell_type": "markdown",
   "metadata": {},
   "source": [
    "## Implict transform\n",
    "**当需要的时候就转换，否则啥也不干**\n"
   ]
  },
  {
   "cell_type": "code",
   "execution_count": null,
   "metadata": {},
   "outputs": [],
   "source": [
    "case class Euro(value: Double)\n",
    "case class Dollar(value: Double)\n",
    "\n",
    "object Dollar{\n",
    "    implicit def dollarToEuro(x: Dollar): Euro = Euro(x.value*0.75)\n",
    "}\n",
    "val a = Dollar(12)\n",
    "val b: Euro = Dollar(10)"
   ]
  },
  {
   "cell_type": "markdown",
   "metadata": {},
   "source": [
    "## implicit parameter\n",
    "**隐式的定义一个参数，并且隐式的传递进去，对用户透明**\n"
   ]
  },
  {
   "cell_type": "code",
   "execution_count": null,
   "metadata": {},
   "outputs": [],
   "source": [
    "object Test{\n",
    "    def show(implicit h: Euro) = {\n",
    "        println(h.value)\n",
    "    }\n",
    "}\n",
    "implicit val h = Euro(12)\n",
    "Test.show"
   ]
  },
  {
   "cell_type": "markdown",
   "metadata": {},
   "source": [
    "## implicit Generate（隐式转换和隐式参数的协作）\n",
    "\n",
    "**作用**：没有的时候生成一个，有了就什么也不干   \n",
    "**区别**：隐式转换带参数，隐式生成不带参数\n",
    "\n",
    "*隐式转换并没有输入参数，那么只要需要隐式的对象若没有声明，那么就生成一个，否则什么也不敢*\n",
    "```scala\n",
    "def hello(implicit h: ClassName) = {}\n",
    "...\n",
    "Test.hello //没有传递函数时会诱导隐式生成生成一个ClassName 对象给它\n",
    "```\n"
   ]
  },
  {
   "cell_type": "code",
   "execution_count": null,
   "metadata": {},
   "outputs": [],
   "source": [
    "case class ClassName(name: String)\n",
    "object ClassName {\n",
    "  //需要的时候生成一个 \n",
    "  implicit def genWhenNeed: ClassName = ClassName(\"Example\")\n",
    "}\n",
    "object Test{\n",
    "    def hello(implicit h: ClassName) = {\n",
    "        println(h.name)\n",
    "    }\n",
    "}\n",
    "Test.hello(ClassName(\"jack\"))\n",
    "Test.hello"
   ]
  },
  {
   "cell_type": "markdown",
   "metadata": {},
   "source": [
    "除了上面的那种方法诱导隐式生成发生以外\n",
    "\n",
    "**还可以直接使用`implicitly[]`关键字**，注意是`[]`， 不是`()`\n",
    "\n",
    "```scala\n",
    "val b = implicitly[ClassName]\n",
    "```"
   ]
  },
  {
   "cell_type": "code",
   "execution_count": null,
   "metadata": {},
   "outputs": [],
   "source": [
    "val b = implicitly[ClassName]"
   ]
  },
  {
   "cell_type": "markdown",
   "metadata": {},
   "source": [
    "## 隐式转换加宏\n",
    "\n",
    "隐式转换加持宏可以和编译器打交道\n",
    "使用中有两种方法：\n",
    "\n",
    "- 方法一\n",
    "```scala \n",
    "def getLineNumber(implicit line: LineNumber) ={\n",
    "      println(\"add at ${line}\"\n",
    "      line\n",
    "}\n",
    "val s = getLineNumber\n",
    "```\n",
    "\n",
    "- 方法二\n",
    "```scala\n",
    "val s = implicitly[LineNumber]\n",
    "```\n",
    "\n",
    "\n",
    "(*注： Scala宏在Jupyter执行中会有问题，实例请在sbt环境下编译运行*)\n"
   ]
  },
  {
   "cell_type": "code",
   "execution_count": null,
   "metadata": {},
   "outputs": [],
   "source": [
    "//获取当前行数\n",
    "import language.experimental.macros\n",
    "import reflect.macros.blackbox.Context\n",
    "\n",
    "case class LineNumber(no: Int)\n",
    "\n",
    "object LineNumber {\n",
    "  implicit def genWhenNeed: LineNumber = macro Macros.lineNumberImpl\n",
    "}\n",
    "\n",
    "object Macros{\n",
    "  def lineNumberImpl(c: Context): c.Expr[LineNumber] = {\n",
    "    import c.universe._\n",
    "    val lineNumber = c.enclosingPosition.line\n",
    "    c.Expr[LineNumber](q\"\"\"${c.prefix}($lineNumber)\"\"\")\n",
    "  }\n",
    "}"
   ]
  },
  {
   "cell_type": "code",
   "execution_count": null,
   "metadata": {},
   "outputs": [],
   "source": [
    "//获取变量名\n",
    "import language.experimental.macros\n",
    "import reflect.macros.blackbox.Context\n",
    "\n",
    "case class SymbolName(name: String)\n",
    "case class ClassName(name: String)\n",
    "\n",
    "object SymbolName{\n",
    "  implicit def genWhenNeed: SymbolName = macro Macros.symbolNameImpl\n",
    "}\n",
    " \n",
    "\n",
    "object Macros{\n",
    "  def symbolNameImpl(c: Context): c.Expr[SymbolName] = {\n",
    "    import c.universe._\n",
    "    val symbolName = c.internal.enclosingOwner.name.decodedName.toString.trim\n",
    "    c.Expr[SymbolName](q\"\"\"${c.prefix}($symbolName)\"\"\")\n",
    "  }\n",
    "}"
   ]
  },
  {
   "cell_type": "code",
   "execution_count": null,
   "metadata": {},
   "outputs": [],
   "source": []
  }
 ],
 "metadata": {
  "kernelspec": {
   "display_name": "Scala",
   "language": "scala",
   "name": "scala"
  },
  "language_info": {
   "codemirror_mode": "text/x-scala",
   "file_extension": ".scala",
   "mimetype": "text/x-scala",
   "name": "scala",
   "nbconvert_exporter": "script",
   "version": "2.12.8"
  }
 },
 "nbformat": 4,
 "nbformat_minor": 2
}
