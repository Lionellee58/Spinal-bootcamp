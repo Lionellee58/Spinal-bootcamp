{
 "cells": [
  {
   "cell_type": "markdown",
   "metadata": {},
   "source": [
    "<a name=\"top\"></a><img src=\"source/SpinalHDL.png\" alt=\"SpinalHDL based on Scala\" style=\"width:320px;\" />"
   ]
  },
  {
   "cell_type": "markdown",
   "metadata": {},
   "source": [
    "Before running Spinal HDL code, be sure to load Spinal HDL Libraries  \n",
    "**Note** : This may be a little slow when the first time load, please wait a moment to download Lib from remote.)"
   ]
  },
  {
   "cell_type": "code",
   "execution_count": null,
   "metadata": {},
   "outputs": [],
   "source": [
    "val path = System.getProperty(\"user.dir\") + \"/source/load-spinal.sc\"\n",
    "interp.load.module(ammonite.ops.Path(java.nio.file.FileSystems.getDefault().getPath(path)))"
   ]
  },
  {
   "cell_type": "markdown",
   "metadata": {},
   "source": [
    "## Chapter\n"
   ]
  },
  {
   "cell_type": "code",
   "execution_count": null,
   "metadata": {},
   "outputs": [],
   "source": [
    "class T4 extends Component{\n",
    "    val a = in SInt(8 bits)\n",
    "    val b0 = out SInt()\n",
    "    val b1 = out SInt()\n",
    "    val b2 = out SInt()\n",
    "    val b3 = out SInt()\n",
    "    b0 := a >> U(3)\n",
    "    b1 := a >> 3    \n",
    "    b2 := a << U(3)\n",
    "    b3 := a << 3\n",
    "    val c = in UInt(8 bits)\n",
    "    val d0 = out UInt()\n",
    "    val d1 = out UInt() \n",
    "    val d3 = out UInt()\n",
    "    val d4 = out UInt() \n",
    "    d0 := c >> U(3)\n",
    "    d1 := c >> 3\n",
    "    d3 := c << U(3)\n",
    "    d4 := c << 3\n",
    "}\n",
    "showRtl(new T4)"
   ]
  },
  {
   "cell_type": "code",
   "execution_count": null,
   "metadata": {},
   "outputs": [],
   "source": [
    "case class IQ(w: Int)  extends Bundle{\n",
    "  val I,Q = SInt(w bits)\n",
    "  def toBits: Bits = (I @@ Q).asBits\n",
    "}\n",
    "class T5 extends Component{\n",
    " \n",
    "    val iq = in(IQ(8))\n",
    "    val wdata = Bits(16 bits)\n",
    "    wdata  := iq.toBits\n",
    "\n",
    "}\n",
    "showRtl(new T5)"
   ]
  },
  {
   "cell_type": "code",
   "execution_count": null,
   "metadata": {},
   "outputs": [],
   "source": []
  }
 ],
 "metadata": {
  "kernelspec": {
   "display_name": "Scala",
   "language": "scala",
   "name": "scala"
  },
  "language_info": {
   "codemirror_mode": "text/x-scala",
   "file_extension": ".scala",
   "mimetype": "text/x-scala",
   "name": "scala",
   "nbconvert_exporter": "script",
   "version": "2.12.8"
  }
 },
 "nbformat": 4,
 "nbformat_minor": 2
}
